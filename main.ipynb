{
 "cells": [
  {
   "cell_type": "code",
   "execution_count": 1,
   "metadata": {},
   "outputs": [
    {
     "data": {
      "text/plain": [
       "True"
      ]
     },
     "execution_count": 1,
     "metadata": {},
     "output_type": "execute_result"
    }
   ],
   "source": [
    "from langchain.document_loaders import PyPDFLoader\n",
    "from langchain_openai import OpenAIEmbeddings\n",
    "from langchain.vectorstores import Chroma\n",
    "from langchain_openai import ChatOpenAI\n",
    "from langchain.prompts import ChatPromptTemplate\n",
    "from langchain.schema.output_parser import StrOutputParser\n",
    "from langchain.schema.runnable import RunnablePassthrough\n",
    "from langchain_core.runnables import RunnableParallel\n",
    "from langchain.text_splitter import RecursiveCharacterTextSplitter\n",
    "from langchain import hub\n",
    "\n",
    "from datetime import datetime\n",
    "\n",
    "from dotenv import load_dotenv\n",
    "import os\n",
    "import math\n",
    "load_dotenv()\n"
   ]
  },
  {
   "cell_type": "code",
   "execution_count": 2,
   "metadata": {},
   "outputs": [],
   "source": [
    "# 모델 초기화\n",
    "chat_model = ChatOpenAI(\n",
    "    api_key=os.environ.get(\"OPENAI_API_KEY\"),\n",
    "    model_name=\"gpt-3.5-turbo-1106\", temperature=0.25)\n",
    "\n",
    "# Load PDF documents using PyPDFLoader with text splitting\n",
    "text_splitter = RecursiveCharacterTextSplitter(chunk_size=2048, chunk_overlap=256)\n",
    "# PDF 파일 로드. 파일의 경로 입력\n",
    "loader = PyPDFLoader(\"docs/ai_trand.pdf\")\n",
    "\n",
    "# 페이지 별 문서 로드\n",
    "docs = loader.load()\n",
    "splits = text_splitter.split_documents(docs)\n",
    "vectorstore = Chroma.from_documents(documents=splits, embedding=OpenAIEmbeddings())\n",
    "\n",
    "# Retrieve and generate using the relevant snippets of the blog.\n",
    "retriever = vectorstore.as_retriever()\n",
    "prompt = hub.pull(\"rlm/rag-prompt\")"
   ]
  },
  {
   "cell_type": "code",
   "execution_count": 3,
   "metadata": {},
   "outputs": [],
   "source": [
    "def format_docs(docs):\n",
    "    return \"\\n\\n\".join(doc.page_content for doc in docs)\n",
    "\n",
    "\n",
    "rag_chain = (\n",
    "    {\"context\": retriever | format_docs, \"question\": RunnablePassthrough()}\n",
    "    | prompt\n",
    "    | chat_model\n",
    "    | StrOutputParser()\n",
    ")\n"
   ]
  },
  {
   "cell_type": "code",
   "execution_count": 4,
   "metadata": {},
   "outputs": [],
   "source": [
    "def split_long_text(text, line_length=80):\n",
    "    return [text[i:i+line_length] for i in range(0, len(text), line_length)]\n",
    "\n",
    "now_dir = os.getcwd()\n",
    "\n",
    "if os.path.isdir(now_dir + \"\\Prompts\"):\n",
    "    prompt_file = os.listdir(now_dir + \"\\Prompts\")\n",
    "    if len(prompt_file) == 0:\n",
    "        print(\"Prompt폴더에 프롬프트 txt파일을 생성해주세요\")\n",
    "        \n",
    "    for file in prompt_file:\n",
    "        filename_split = os.path.splitext(now_dir+\"\\Prompts\\\\\" + file)\n",
    "        if filename_split[1] == \".txt\":\n",
    "            f = open(now_dir+\"\\Prompts\\\\\" + file, 'r', encoding='UTF8') \n",
    "            lines = f.readlines()\n",
    "            response = rag_chain.invoke(lines[0])\n",
    "            \n",
    "            file_split = os.path.basename(file).split(\".\")\n",
    "            now = datetime.now()\n",
    "            \n",
    "            file_dir = now_dir + \"\\Result\\\\\"\n",
    "            file_name = file_split[0] + \"_result_\" + str(math.floor(now.timestamp())) + filename_split[1]\n",
    "            w = open(file_dir + file_name, 'w', encoding='UTF8') \n",
    "            for line in split_long_text(response, line_length=80):            \n",
    "                w.write(line + '\\n')\n",
    "            w.close()\n",
    "else:\n",
    "    print(\"Prompt폴더를 생성해서 프롬프트 txt파일을 생성해주세요\")"
   ]
  },
  {
   "cell_type": "code",
   "execution_count": null,
   "metadata": {},
   "outputs": [],
   "source": []
  }
 ],
 "metadata": {
  "kernelspec": {
   "display_name": "Python 3",
   "language": "python",
   "name": "python3"
  },
  "language_info": {
   "codemirror_mode": {
    "name": "ipython",
    "version": 3
   },
   "file_extension": ".py",
   "mimetype": "text/x-python",
   "name": "python",
   "nbconvert_exporter": "python",
   "pygments_lexer": "ipython3",
   "version": "3.11.9"
  }
 },
 "nbformat": 4,
 "nbformat_minor": 2
}
